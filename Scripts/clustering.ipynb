{
 "cells": [
  {
   "cell_type": "markdown",
   "metadata": {},
   "source": [
    "# Importing Libraries"
   ]
  },
  {
   "cell_type": "markdown",
   "metadata": {},
   "source": [
    "* System Append to set proper path"
   ]
  },
  {
   "cell_type": "code",
   "execution_count": null,
   "metadata": {},
   "outputs": [],
   "source": [
    "sys.path.append('../')"
   ]
  },
  {
   "cell_type": "markdown",
   "metadata": {},
   "source": [
    "* Default"
   ]
  },
  {
   "cell_type": "code",
   "execution_count": null,
   "metadata": {},
   "outputs": [],
   "source": [
    "import lasio\n",
    "import pandas as pd\n",
    "import numpy as np\n",
    "from collections import Counter\n",
    "import matplotlib.pyplot as plt\n",
    "import seaborn as sns\n",
    "from scipy import stats\n",
    "from collections import Counter\n",
    "import multiprocessing"
   ]
  },
  {
   "cell_type": "markdown",
   "metadata": {},
   "source": [
    "* Pandas Options"
   ]
  },
  {
   "cell_type": "code",
   "execution_count": null,
   "metadata": {},
   "outputs": [],
   "source": [
    "pd.set_option('max_columns', None)"
   ]
  },
  {
   "cell_type": "markdown",
   "metadata": {},
   "source": [
    "* Source Code"
   ]
  },
  {
   "cell_type": "code",
   "execution_count": null,
   "metadata": {},
   "outputs": [],
   "source": [
    "from Source.Utils import welllog\n",
    "from Source.Utils import multi_df\n",
    "from Source.Utils import well_plot"
   ]
  },
  {
   "cell_type": "markdown",
   "metadata": {},
   "source": [
    "* Tqdm Progress Bar"
   ]
  },
  {
   "cell_type": "code",
   "execution_count": null,
   "metadata": {},
   "outputs": [],
   "source": [
    "%%capture\n",
    "from tqdm import tqdm_notebook"
   ]
  },
  {
   "source": [
    "# Checkpoint import"
   ],
   "cell_type": "markdown",
   "metadata": {}
  },
  {
   "cell_type": "code",
   "execution_count": null,
   "metadata": {},
   "outputs": [],
   "source": [
    "final_df = pd.read_csv('../checkpoints/final_df.csv.gz', compression='gzip')"
   ]
  },
  {
   "cell_type": "code",
   "execution_count": null,
   "metadata": {},
   "outputs": [],
   "source": [
    "final_df.head()"
   ]
  },
  {
   "cell_type": "markdown",
   "metadata": {},
   "source": [
    "## Well clustering"
   ]
  },
  {
   "cell_type": "markdown",
   "metadata": {},
   "source": [
    "* Preparing the clustering dataset"
   ]
  },
  {
   "cell_type": "code",
   "execution_count": null,
   "metadata": {
    "tags": []
   },
   "outputs": [],
   "source": [
    "tmp_dict = {}\n",
    "\n",
    "wells = final_df['WELL_NAME'].unique().tolist()\n",
    "\n",
    "for well in tqdm_notebook(wells, desc='Process Progress'):\n",
    "\n",
    "    GR = final_df[final_df['WELL_NAME'] == well]['GR'].values\n",
    "\n",
    "    RHOB = final_df[final_df['WELL_NAME'] == well]['RHOB'].values\n",
    "\n",
    "    NPHI = final_df[final_df['WELL_NAME'] == well]['NPHI'].values\n",
    "\n",
    "    DTC = final_df[final_df['WELL_NAME'] == well]['DTC'].values\n",
    "\n",
    "    RDEP = final_df[final_df['WELL_NAME'] == well]['RDEP'].values\n",
    "\n",
    "    listafinal = np.concatenate((GR, RHOB, NPHI, DTC, RDEP))\n",
    "\n",
    "    tmp_dict[well] = listafinal\n",
    "\n",
    "df_clust = pd.DataFrame(dict([ (k,pd.Series(v)) for k,v in tmp_dict.items() ]))"
   ]
  },
  {
   "source": [
    "* Dropping Wells with High Percentage of Null Samples"
   ],
   "cell_type": "markdown",
   "metadata": {}
  },
  {
   "cell_type": "code",
   "execution_count": null,
   "metadata": {},
   "outputs": [],
   "source": [
    "null_count = df_clust.isnull().sum()\n",
    "\n",
    "tresh = int(np.percentile(null_count, 50))\n",
    "\n",
    "for well in tqdm_notebook(df_clust.columns, desc='Process Progress'):\n",
    "    if null_count[well] > tresh:\n",
    "        df_clust.drop(columns=well, inplace=True)"
   ]
  },
  {
   "source": [
    "* Filling rest of Nan Samples"
   ],
   "cell_type": "markdown",
   "metadata": {}
  },
  {
   "cell_type": "code",
   "execution_count": null,
   "metadata": {},
   "outputs": [],
   "source": [
    "df_clust.fillna(df_clust.mean(), inplace=True)"
   ]
  },
  {
   "source": [
    "* Transposing the dataframe to prepare for the clustering algorithm"
   ],
   "cell_type": "markdown",
   "metadata": {}
  },
  {
   "cell_type": "code",
   "execution_count": null,
   "metadata": {},
   "outputs": [],
   "source": [
    "df_clust_t = df_clust.T"
   ]
  },
  {
   "source": [
    "* Normalizing columns "
   ],
   "cell_type": "markdown",
   "metadata": {}
  },
  {
   "cell_type": "code",
   "execution_count": null,
   "metadata": {},
   "outputs": [],
   "source": [
    "df_clust_norm = df_clust_t.copy()"
   ]
  },
  {
   "cell_type": "code",
   "execution_count": null,
   "metadata": {},
   "outputs": [],
   "source": [
    "from sklearn.preprocessing import MinMaxScaler\n",
    "\n",
    "df_clust_norm = MinMaxScaler().fit_transform(df_clust_norm)\n",
    "\n",
    "df_clust_norm = pd.DataFrame(df_clust_norm, index=df_clust_t.index, columns=df_clust_t.columns)"
   ]
  },
  {
   "source": [
    "* Importing K-means algorithm"
   ],
   "cell_type": "markdown",
   "metadata": {}
  },
  {
   "cell_type": "code",
   "execution_count": null,
   "metadata": {},
   "outputs": [],
   "source": [
    "from sklearn.cluster import KMeans"
   ]
  },
  {
   "source": [
    "* Evaluating the optimum number of clusters"
   ],
   "cell_type": "markdown",
   "metadata": {}
  },
  {
   "cell_type": "code",
   "execution_count": null,
   "metadata": {
    "tags": []
   },
   "outputs": [],
   "source": [
    "wcss = [] # Within cluster sum of squares to analyze k-means performance\n",
    "\n",
    "k_number_clusters = np.arange(1, 11) # define number of clusters to test\n",
    "\n",
    "for k in tqdm_notebook(k_number_clusters, desc='K-Means Hyperparameter Tunning'): \n",
    "\n",
    "    kmeans = KMeans(n_clusters=k, init=\"k-means++\", random_state=42, max_iter=500, n_jobs=7) # k-means model definition\n",
    "\n",
    "    kmeans.fit(df_clust_t) # fitting to our dataframe\n",
    "\n",
    "    wcss.append(kmeans.inertia_) # appending intertia value to our list for further evaluation"
   ]
  },
  {
   "cell_type": "code",
   "execution_count": null,
   "metadata": {},
   "outputs": [],
   "source": [
    "plt.figure(figsize=(12,6))    \n",
    "plt.plot(k_number_clusters, wcss, linewidth=2, color=\"red\", marker =\"8\")\n",
    "plt.xlabel(\"K Clusters Value\")\n",
    "plt.xticks(np.arange(1,11,1))\n",
    "plt.ylabel(\"WCSS\")\n",
    "plt.title('K-Means Elbow Plot Evaluation Method')\n",
    "plt.show()"
   ]
  },
  {
   "source": [
    "* Prediction Clusters"
   ],
   "cell_type": "markdown",
   "metadata": {}
  },
  {
   "cell_type": "code",
   "execution_count": null,
   "metadata": {},
   "outputs": [],
   "source": [
    "N_CLUSTERS = 4"
   ]
  },
  {
   "cell_type": "code",
   "execution_count": null,
   "metadata": {},
   "outputs": [],
   "source": [
    "optimum_clustering = KMeans(n_clusters=N_CLUSTERS, init=\"k-means++\", random_state=42, max_iter=500, n_jobs=7)\n",
    "\n",
    "df_clust_t['Cluster'] = optimum_clustering.fit_predict(df_clust_t)"
   ]
  },
  {
   "source": [
    "* Importing Geolocation Information to Visualize Result"
   ],
   "cell_type": "markdown",
   "metadata": {}
  },
  {
   "cell_type": "code",
   "execution_count": null,
   "metadata": {},
   "outputs": [],
   "source": [
    "well_exploration = pd.read_csv('../Data/wellbore_exploration_all.csv')\n",
    "geo_well = well_exploration[['wlbWellboreName','wlbNsUtm', 'wlbEwUtm']]\n",
    "list_of_wells = df_clust.columns\n",
    "df_clust_t['UTM-N'] = 0.0\n",
    "df_clust_t['UTM-E'] = 0.0\n",
    "for well_name in tqdm_notebook(list_of_wells, desc='Process Progress'):\n",
    "    if well_name in list(geo_well['wlbWellboreName'].values):\n",
    "        df_clust_t.loc[well_name, 'UTM-N'] = geo_well[geo_well['wlbWellboreName'] == well_name]['wlbNsUtm'].values\n",
    "        df_clust_t.loc[well_name, 'UTM-E'] = geo_well[geo_well['wlbWellboreName'] == well_name]['wlbEwUtm'].values\n",
    "df_clust_t[['UTM-N', 'UTM-E']] \n",
    "df_clust_t = df_clust_t[df_clust_t['UTM-N'] != 0]\n",
    "\n"
   ]
  },
  {
   "cell_type": "code",
   "execution_count": null,
   "metadata": {},
   "outputs": [],
   "source": [
    "plt.figure(figsize=(12,6))    \n",
    "\n",
    "sns.scatterplot(data=df_clust_t, x=\"UTM-E\", y=\"UTM-N\", palette='bright', hue=\"Cluster\")\n"
   ]
  }
 ],
 "metadata": {
  "language_info": {
   "codemirror_mode": {
    "name": "ipython",
    "version": 3
   },
   "file_extension": ".py",
   "mimetype": "text/x-python",
   "name": "python",
   "nbconvert_exporter": "python",
   "pygments_lexer": "ipython3",
   "version": "3.7.6-final"
  },
  "orig_nbformat": 2,
  "kernelspec": {
   "name": "python3",
   "display_name": "Python 3"
  }
 },
 "nbformat": 4,
 "nbformat_minor": 2
}