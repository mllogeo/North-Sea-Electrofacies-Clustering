{
 "cells": [
  {
   "cell_type": "markdown",
   "metadata": {},
   "source": [
    "# Importing Libraries"
   ]
  },
  {
   "cell_type": "markdown",
   "metadata": {},
   "source": [
    "* System Append to set proper path"
   ]
  },
  {
   "cell_type": "code",
   "execution_count": 3,
   "metadata": {},
   "outputs": [],
   "source": [
    "sys.path.append('../Source/Utils')"
   ]
  },
  {
   "cell_type": "markdown",
   "metadata": {},
   "source": [
    "* Default"
   ]
  },
  {
   "cell_type": "code",
   "execution_count": 4,
   "metadata": {},
   "outputs": [],
   "source": [
    "import lasio\n",
    "import pandas as pd\n",
    "import numpy as np\n",
    "from collections import Counter"
   ]
  },
  {
   "cell_type": "markdown",
   "metadata": {},
   "source": [
    "* Pandas Options"
   ]
  },
  {
   "cell_type": "code",
   "execution_count": 5,
   "metadata": {},
   "outputs": [],
   "source": [
    "pd.set_option('max_columns', None)"
   ]
  },
  {
   "cell_type": "markdown",
   "metadata": {},
   "source": [
    "* Source Code"
   ]
  },
  {
   "cell_type": "code",
   "execution_count": 6,
   "metadata": {},
   "outputs": [],
   "source": [
    "import welllog"
   ]
  },
  {
   "cell_type": "markdown",
   "metadata": {},
   "source": [
    "* Tqdm Progress Bar"
   ]
  },
  {
   "cell_type": "code",
   "execution_count": 7,
   "metadata": {},
   "outputs": [],
   "source": [
    "%%capture\n",
    "from tqdm import tqdm_notebook"
   ]
  },
  {
   "cell_type": "markdown",
   "metadata": {},
   "source": [
    "# Reading Miscellaneous Data"
   ]
  },
  {
   "cell_type": "code",
   "execution_count": 8,
   "metadata": {},
   "outputs": [],
   "source": [
    "file_path = '../data/Lithology code data.xlsx'\n",
    "\n",
    "file_path2 = '../data/NPD stratigraphic picks north sea.xlsx'\n",
    "\n",
    "litho_code = pd.read_excel(file_path)\n",
    "\n",
    "picks = pd.read_excel(file_path2)"
   ]
  },
  {
   "cell_type": "markdown",
   "metadata": {},
   "source": [
    "* Lithology Code "
   ]
  },
  {
   "cell_type": "code",
   "execution_count": 21,
   "metadata": {},
   "outputs": [
    {
     "output_type": "execute_result",
     "data": {
      "text/plain": "<bound method NDFrame.head of                 Unnamed: 0      Unnamed: 1            Unnamed: 2    Unnamed: 3\n0                Lithology           Color   Lithology Attribute  Abbreviation\n1        Aeolian Sandstone     LightYellow      CrossBedded Sand            35\n2                Anhydrite   Light Magenta             Anhydrite            22\n3   Argillaceous Limestone     Dodger Blue                 Chalk            12\n4                   Arkose  LightGoldenrod                Gravel            36\n5                 Basement          Salmon             Intrusive            23\n6            Biogenic Ooze      DarkYellow           Sandy Shale            25\n7        Calcareous Cement            Cyan       Sandy Limestone            16\n8   Calcareous Debris Flow       Turquoise               Breccia            31\n9         Calcareous Shale        DarkCyan      Calcareous Shale            14\n10              Carnallite         Magenta                Halite            33\n11                   Chalk       SlateBlue                 Chalk             9\n12                Cinerite            Cyan             Extrusive            19\n13                    Coal           Black                  Coal            18\n14            Conglomerate    Light Yellow          Conglomerate            17\n15        Cross Bedded Sst            Gold      CrossBedded Sand             3\n16                Dolomite            Cyan             Dolomite2            15\n17                     Gap           White                Gypsum            26\n18                  Halite            Pink                Halite            21\n19                 Kaïnite   LavenderBlush                Halite            34\n20               Limestone       SlateBlue             Limestone            11\n21               Marlstone     DeepSkyBlue                 Chalk            13\n22        Metamorphic Rock       Dark Cyan            Shaly Sand            30\n23           Plutonic Rock             Red             Intrusive            24\n24              Polyhalite       LightPink                Halite            32\n25        Porous Limestone       SlateBlue  Calcareous Sandstone            10\n26               Sandstone          Yellow                  Sand             1\n27              Sandy Silt             Tan       Shaly Sandstone             4\n28                   Shale        DarkCyan                 Shale             8\n29              Shaly Silt      DarkYellow                  Silt             6\n30                    Silt     LightSalmon                  Silt             5\n31              Silty Sand     LightYellow                  Sand             2\n32             Silty Shale       DarkGreen                 Shale             7\n33               Spiculite      MediumGray                 Chert            29\n34               Sylvinite    LightMagenta                Halite            27\n35           Volcanic Rock          Orange             Extrusive            28\n36           Volcanic Tuff          Tomato             Extrusive            20\n37                     NaN             NaN                   NaN       -999,25>"
     },
     "metadata": {},
     "execution_count": 21
    }
   ],
   "source": [
    "litho_code.head"
   ]
  },
  {
   "cell_type": "markdown",
   "metadata": {},
   "source": [
    "        * Fixing Columns IDs"
   ]
  },
  {
   "cell_type": "code",
   "execution_count": 22,
   "metadata": {},
   "outputs": [],
   "source": [
    "litho_code.columns = litho_code.iloc[0]"
   ]
  },
  {
   "cell_type": "markdown",
   "metadata": {},
   "source": [
    "        * Droping first row (as it has become the columns ids now)"
   ]
  },
  {
   "cell_type": "code",
   "execution_count": 25,
   "metadata": {},
   "outputs": [],
   "source": [
    "litho_code.drop(index=0, inplace=True)"
   ]
  },
  {
   "cell_type": "markdown",
   "metadata": {},
   "source": [
    "        * Checking Final Result"
   ]
  },
  {
   "cell_type": "code",
   "execution_count": 29,
   "metadata": {},
   "outputs": [
    {
     "output_type": "execute_result",
     "data": {
      "text/plain": "0               Lithology           Color Lithology Attribute Abbreviation\n1       Aeolian Sandstone     LightYellow    CrossBedded Sand           35\n2               Anhydrite   Light Magenta           Anhydrite           22\n3  Argillaceous Limestone     Dodger Blue               Chalk           12\n4                  Arkose  LightGoldenrod              Gravel           36\n5                Basement          Salmon           Intrusive           23",
      "text/html": "<div>\n<style scoped>\n    .dataframe tbody tr th:only-of-type {\n        vertical-align: middle;\n    }\n\n    .dataframe tbody tr th {\n        vertical-align: top;\n    }\n\n    .dataframe thead th {\n        text-align: right;\n    }\n</style>\n<table border=\"1\" class=\"dataframe\">\n  <thead>\n    <tr style=\"text-align: right;\">\n      <th></th>\n      <th>Lithology</th>\n      <th>Color</th>\n      <th>Lithology Attribute</th>\n      <th>Abbreviation</th>\n    </tr>\n  </thead>\n  <tbody>\n    <tr>\n      <th>1</th>\n      <td>Aeolian Sandstone</td>\n      <td>LightYellow</td>\n      <td>CrossBedded Sand</td>\n      <td>35</td>\n    </tr>\n    <tr>\n      <th>2</th>\n      <td>Anhydrite</td>\n      <td>Light Magenta</td>\n      <td>Anhydrite</td>\n      <td>22</td>\n    </tr>\n    <tr>\n      <th>3</th>\n      <td>Argillaceous Limestone</td>\n      <td>Dodger Blue</td>\n      <td>Chalk</td>\n      <td>12</td>\n    </tr>\n    <tr>\n      <th>4</th>\n      <td>Arkose</td>\n      <td>LightGoldenrod</td>\n      <td>Gravel</td>\n      <td>36</td>\n    </tr>\n    <tr>\n      <th>5</th>\n      <td>Basement</td>\n      <td>Salmon</td>\n      <td>Intrusive</td>\n      <td>23</td>\n    </tr>\n  </tbody>\n</table>\n</div>"
     },
     "metadata": {},
     "execution_count": 29
    }
   ],
   "source": [
    "litho_code.head(5)"
   ]
  },
  {
   "cell_type": "markdown",
   "metadata": {},
   "source": [
    "* Stratigraphic Picks"
   ]
  },
  {
   "cell_type": "code",
   "execution_count": 30,
   "metadata": {},
   "outputs": [
    {
     "output_type": "execute_result",
     "data": {
      "text/plain": "   Unnamed: 0 Well identifier               Surface          X           Y  \\\n0       21675          10/4-1  CROMER KNOLL GP. Top  628531.41  6394710.62   \n1       21660          10/4-1        Roedby Fm. Top  628531.41  6394710.62   \n2       21656          10/4-1          Sola Fm. Top  628531.47  6394710.62   \n3       21664          10/4-1       Aasgard Fm. Top  628531.50  6394710.61   \n4       21668          10/4-1      VESTLAND GP. Top  628531.27  6394713.59   \n\n         Z      MD  Geological age  TVT  TST Interpreter  Observation number  \n0 -1350.90  1382.0            4.21  NaN  NaN         NPD                   1  \n1 -1350.90  1382.0           98.90  NaN  NaN         NPD                   1  \n2 -1381.90  1413.0          102.50  NaN  NaN         NPD                   1  \n3 -1397.90  1429.0          117.00  NaN  NaN         NPD                   1  \n4 -2242.88  2274.0            1.00  NaN  NaN         NPD                   1  ",
      "text/html": "<div>\n<style scoped>\n    .dataframe tbody tr th:only-of-type {\n        vertical-align: middle;\n    }\n\n    .dataframe tbody tr th {\n        vertical-align: top;\n    }\n\n    .dataframe thead th {\n        text-align: right;\n    }\n</style>\n<table border=\"1\" class=\"dataframe\">\n  <thead>\n    <tr style=\"text-align: right;\">\n      <th></th>\n      <th>Unnamed: 0</th>\n      <th>Well identifier</th>\n      <th>Surface</th>\n      <th>X</th>\n      <th>Y</th>\n      <th>Z</th>\n      <th>MD</th>\n      <th>Geological age</th>\n      <th>TVT</th>\n      <th>TST</th>\n      <th>Interpreter</th>\n      <th>Observation number</th>\n    </tr>\n  </thead>\n  <tbody>\n    <tr>\n      <th>0</th>\n      <td>21675</td>\n      <td>10/4-1</td>\n      <td>CROMER KNOLL GP. Top</td>\n      <td>628531.41</td>\n      <td>6394710.62</td>\n      <td>-1350.90</td>\n      <td>1382.0</td>\n      <td>4.21</td>\n      <td>NaN</td>\n      <td>NaN</td>\n      <td>NPD</td>\n      <td>1</td>\n    </tr>\n    <tr>\n      <th>1</th>\n      <td>21660</td>\n      <td>10/4-1</td>\n      <td>Roedby Fm. Top</td>\n      <td>628531.41</td>\n      <td>6394710.62</td>\n      <td>-1350.90</td>\n      <td>1382.0</td>\n      <td>98.90</td>\n      <td>NaN</td>\n      <td>NaN</td>\n      <td>NPD</td>\n      <td>1</td>\n    </tr>\n    <tr>\n      <th>2</th>\n      <td>21656</td>\n      <td>10/4-1</td>\n      <td>Sola Fm. Top</td>\n      <td>628531.47</td>\n      <td>6394710.62</td>\n      <td>-1381.90</td>\n      <td>1413.0</td>\n      <td>102.50</td>\n      <td>NaN</td>\n      <td>NaN</td>\n      <td>NPD</td>\n      <td>1</td>\n    </tr>\n    <tr>\n      <th>3</th>\n      <td>21664</td>\n      <td>10/4-1</td>\n      <td>Aasgard Fm. Top</td>\n      <td>628531.50</td>\n      <td>6394710.61</td>\n      <td>-1397.90</td>\n      <td>1429.0</td>\n      <td>117.00</td>\n      <td>NaN</td>\n      <td>NaN</td>\n      <td>NPD</td>\n      <td>1</td>\n    </tr>\n    <tr>\n      <th>4</th>\n      <td>21668</td>\n      <td>10/4-1</td>\n      <td>VESTLAND GP. Top</td>\n      <td>628531.27</td>\n      <td>6394713.59</td>\n      <td>-2242.88</td>\n      <td>2274.0</td>\n      <td>1.00</td>\n      <td>NaN</td>\n      <td>NaN</td>\n      <td>NPD</td>\n      <td>1</td>\n    </tr>\n  </tbody>\n</table>\n</div>"
     },
     "metadata": {},
     "execution_count": 30
    }
   ],
   "source": [
    "picks.head(n=2)"
   ]
  },
  {
   "cell_type": "markdown",
   "metadata": {},
   "source": [
    "        * Renaming Unidentified Column"
   ]
  },
  {
   "cell_type": "code",
   "execution_count": 31,
   "metadata": {},
   "outputs": [],
   "source": [
    "picks.rename(columns={'Unnamed: 0': 'Unidentified Column'}, inplace=True)"
   ]
  },
  {
   "cell_type": "markdown",
   "metadata": {},
   "source": [
    "        * Checking Result"
   ]
  },
  {
   "cell_type": "code",
   "execution_count": 35,
   "metadata": {},
   "outputs": [
    {
     "output_type": "execute_result",
     "data": {
      "text/plain": "   Unidentified Column Well identifier               Surface          X  \\\n0                21675          10/4-1  CROMER KNOLL GP. Top  628531.41   \n1                21660          10/4-1        Roedby Fm. Top  628531.41   \n\n            Y       Z      MD  Geological age  TVT  TST Interpreter  \\\n0  6394710.62 -1350.9  1382.0            4.21  NaN  NaN         NPD   \n1  6394710.62 -1350.9  1382.0           98.90  NaN  NaN         NPD   \n\n   Observation number  \n0                   1  \n1                   1  ",
      "text/html": "<div>\n<style scoped>\n    .dataframe tbody tr th:only-of-type {\n        vertical-align: middle;\n    }\n\n    .dataframe tbody tr th {\n        vertical-align: top;\n    }\n\n    .dataframe thead th {\n        text-align: right;\n    }\n</style>\n<table border=\"1\" class=\"dataframe\">\n  <thead>\n    <tr style=\"text-align: right;\">\n      <th></th>\n      <th>Unidentified Column</th>\n      <th>Well identifier</th>\n      <th>Surface</th>\n      <th>X</th>\n      <th>Y</th>\n      <th>Z</th>\n      <th>MD</th>\n      <th>Geological age</th>\n      <th>TVT</th>\n      <th>TST</th>\n      <th>Interpreter</th>\n      <th>Observation number</th>\n    </tr>\n  </thead>\n  <tbody>\n    <tr>\n      <th>0</th>\n      <td>21675</td>\n      <td>10/4-1</td>\n      <td>CROMER KNOLL GP. Top</td>\n      <td>628531.41</td>\n      <td>6394710.62</td>\n      <td>-1350.9</td>\n      <td>1382.0</td>\n      <td>4.21</td>\n      <td>NaN</td>\n      <td>NaN</td>\n      <td>NPD</td>\n      <td>1</td>\n    </tr>\n    <tr>\n      <th>1</th>\n      <td>21660</td>\n      <td>10/4-1</td>\n      <td>Roedby Fm. Top</td>\n      <td>628531.41</td>\n      <td>6394710.62</td>\n      <td>-1350.9</td>\n      <td>1382.0</td>\n      <td>98.90</td>\n      <td>NaN</td>\n      <td>NaN</td>\n      <td>NPD</td>\n      <td>1</td>\n    </tr>\n  </tbody>\n</table>\n</div>"
     },
     "metadata": {},
     "execution_count": 35
    }
   ],
   "source": [
    "picks.head(n=2)"
   ]
  },
  {
   "cell_type": "markdown",
   "metadata": {},
   "source": [
    "# Reading Las files Dataset"
   ]
  },
  {
   "cell_type": "code",
   "execution_count": 34,
   "metadata": {},
   "outputs": [
    {
     "output_type": "display_data",
     "data": {
      "text/plain": "HBox(children=(FloatProgress(value=0.0, description='Reading all las files from folder', max=223.0, style=Prog…",
      "application/vnd.jupyter.widget-view+json": {
       "version_major": 2,
       "version_minor": 0,
       "model_id": "3148f2cdff05423e9faed1a693ba395f"
      }
     },
     "metadata": {}
    },
    {
     "output_type": "stream",
     "name": "stdout",
     "text": "\n"
    }
   ],
   "source": [
    "path = '..//data/GEOLINK_Lithology and wells NORTH SEA/'\n",
    "\n",
    "npd_wells = welllog.read_las_directory(path)"
   ]
  },
  {
   "cell_type": "markdown",
   "metadata": {},
   "source": [
    "* Las files Glance"
   ]
  },
  {
   "cell_type": "code",
   "execution_count": null,
   "metadata": {},
   "outputs": [],
   "source": [
    "print('Number of Las Files read: ' + str(len(npd_wells)))\n",
    "print('##########################')\n",
    "print('Las files ID: ' + str(npd_wells.keys()))\n",
    "print('##########################')\n",
    "print(str(npd_wells['15_9-12'].curves))\n"
   ]
  },
  {
   "cell_type": "markdown",
   "metadata": {},
   "source": [
    "        Note: The Mnmonic Table above does not necessarily represent all the available log curves on the dataset"
   ]
  },
  {
   "cell_type": "markdown",
   "metadata": {},
   "source": [
    "# Data Processing"
   ]
  },
  {
   "cell_type": "markdown",
   "metadata": {},
   "source": [
    "* Checking unmatching unit of measurement for each log curve"
   ]
  },
  {
   "cell_type": "code",
   "execution_count": 16,
   "metadata": {},
   "outputs": [
    {
     "output_type": "display_data",
     "data": {
      "text/plain": "HBox(children=(FloatProgress(value=0.0, description='Checking unmatching unit of measurements', max=223.0, sty…",
      "application/vnd.jupyter.widget-view+json": {
       "version_major": 2,
       "version_minor": 0,
       "model_id": "1eb24f1f23224167a7d9df51db0e6da4"
      }
     },
     "metadata": {}
    },
    {
     "output_type": "stream",
     "name": "stdout",
     "text": "\n\n\nIt was found a total of 0 unmatching unit of measurement in the dataset. Please, check the flag output for proper adjustments\n"
    }
   ],
   "source": [
    "unit_mismatch_list = welllog.unit_check(npd_wells)"
   ]
  },
  {
   "cell_type": "markdown",
   "metadata": {},
   "source": [
    "* Converting all las files to dataframe"
   ]
  },
  {
   "cell_type": "code",
   "execution_count": 17,
   "metadata": {},
   "outputs": [
    {
     "output_type": "display_data",
     "data": {
      "text/plain": "HBox(children=(FloatProgress(value=0.0, description='Converting to dataframe', max=223.0, style=ProgressStyle(…",
      "application/vnd.jupyter.widget-view+json": {
       "version_major": 2,
       "version_minor": 0,
       "model_id": "683033b2644b44429afeb9fcc193e96a"
      }
     },
     "metadata": {}
    },
    {
     "output_type": "stream",
     "name": "stdout",
     "text": "\n"
    }
   ],
   "source": [
    "npd_wells_df = {}\n",
    "\n",
    "for id in tqdm_notebook(list(npd_wells.keys()), desc='Converting to dataframe'):\n",
    "\n",
    "    npd_wells_df[id] = npd_wells[id].df()"
   ]
  },
  {
   "cell_type": "markdown",
   "metadata": {},
   "source": [
    "* Creating Logs Dataframes"
   ]
  },
  {
   "cell_type": "markdown",
   "metadata": {},
   "source": [
    "        * Selected Logs"
   ]
  },
  {
   "cell_type": "code",
   "execution_count": 18,
   "metadata": {},
   "outputs": [],
   "source": [
    "logs_list = ['RHOB', 'DTC', 'GR', 'NPHI', 'RDEP', 'CALI']"
   ]
  },
  {
   "cell_type": "markdown",
   "metadata": {},
   "source": [
    "        * Filling in Dataframes"
   ]
  }
 ],
 "metadata": {
  "language_info": {
   "codemirror_mode": {
    "name": "ipython",
    "version": 3
   },
   "file_extension": ".py",
   "mimetype": "text/x-python",
   "name": "python",
   "nbconvert_exporter": "python",
   "pygments_lexer": "ipython3",
   "version": "3.7.6-final"
  },
  "orig_nbformat": 2,
  "kernelspec": {
   "name": "python37632bitconda28075824ea9a4f08991837c2bbbe05e0",
   "display_name": "Python 3.7.6 32-bit (conda)"
  }
 },
 "nbformat": 4,
 "nbformat_minor": 2
}