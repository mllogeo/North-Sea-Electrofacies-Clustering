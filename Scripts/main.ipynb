{
 "cells": [
  {
   "cell_type": "markdown",
   "metadata": {},
   "source": [
    "# Importing Libraries"
   ]
  },
  {
   "cell_type": "markdown",
   "metadata": {},
   "source": [
    "* System Append to set proper path"
   ]
  },
  {
   "cell_type": "code",
   "execution_count": 1,
   "metadata": {},
   "outputs": [],
   "source": [
    "sys.path.append('../')"
   ]
  },
  {
   "cell_type": "markdown",
   "metadata": {},
   "source": [
    "* Default"
   ]
  },
  {
   "cell_type": "code",
   "execution_count": 2,
   "metadata": {},
   "outputs": [],
   "source": [
    "import lasio\n",
    "import pandas as pd\n",
    "import numpy as np"
   ]
  },
  {
   "cell_type": "markdown",
   "metadata": {},
   "source": [
    "* Source Code"
   ]
  },
  {
   "cell_type": "code",
   "execution_count": 3,
   "metadata": {},
   "outputs": [],
   "source": [
    "from source.utils import welllog"
   ]
  },
  {
   "cell_type": "markdown",
   "metadata": {},
   "source": [
    "* Tqdm Progress Bar"
   ]
  },
  {
   "cell_type": "code",
   "execution_count": 4,
   "metadata": {},
   "outputs": [],
   "source": [
    "%%capture\n",
    "from tqdm import tqdm_notebook"
   ]
  },
  {
   "cell_type": "markdown",
   "metadata": {},
   "source": [
    "# Reading Miscellaneous Data"
   ]
  },
  {
   "cell_type": "code",
   "execution_count": 5,
   "metadata": {},
   "outputs": [],
   "source": [
    "file_path = '../data/Lithology code data.xlsx'\n",
    "\n",
    "file_path2 = '../data/NPD stratigraphic picks north sea.xlsx'\n",
    "\n",
    "litho_code = pd.read_excel(file_path)\n",
    "\n",
    "picks = pd.read_excel(file_path2)"
   ]
  },
  {
   "cell_type": "markdown",
   "metadata": {},
   "source": [
    "* Lithology Code "
   ]
  },
  {
   "cell_type": "code",
   "execution_count": 6,
   "metadata": {},
   "outputs": [
    {
     "output_type": "execute_result",
     "data": {
      "text/plain": "          Unnamed: 0   Unnamed: 1           Unnamed: 2    Unnamed: 3\n0          Lithology        Color  Lithology Attribute  Abbreviation\n1  Aeolian Sandstone  LightYellow     CrossBedded Sand            35",
      "text/html": "<div>\n<style scoped>\n    .dataframe tbody tr th:only-of-type {\n        vertical-align: middle;\n    }\n\n    .dataframe tbody tr th {\n        vertical-align: top;\n    }\n\n    .dataframe thead th {\n        text-align: right;\n    }\n</style>\n<table border=\"1\" class=\"dataframe\">\n  <thead>\n    <tr style=\"text-align: right;\">\n      <th></th>\n      <th>Unnamed: 0</th>\n      <th>Unnamed: 1</th>\n      <th>Unnamed: 2</th>\n      <th>Unnamed: 3</th>\n    </tr>\n  </thead>\n  <tbody>\n    <tr>\n      <th>0</th>\n      <td>Lithology</td>\n      <td>Color</td>\n      <td>Lithology Attribute</td>\n      <td>Abbreviation</td>\n    </tr>\n    <tr>\n      <th>1</th>\n      <td>Aeolian Sandstone</td>\n      <td>LightYellow</td>\n      <td>CrossBedded Sand</td>\n      <td>35</td>\n    </tr>\n  </tbody>\n</table>\n</div>"
     },
     "metadata": {},
     "execution_count": 6
    }
   ],
   "source": [
    "litho_code.head(n=2)"
   ]
  },
  {
   "cell_type": "markdown",
   "metadata": {},
   "source": [
    "        * Fixing Columns IDs"
   ]
  },
  {
   "cell_type": "code",
   "execution_count": 8,
   "metadata": {},
   "outputs": [],
   "source": [
    "litho_code.columns = litho_code.iloc[0]"
   ]
  },
  {
   "cell_type": "markdown",
   "metadata": {},
   "source": [
    "        * Droping first row (as it has become the columns ids now)"
   ]
  },
  {
   "cell_type": "code",
   "execution_count": 10,
   "metadata": {},
   "outputs": [],
   "source": [
    "litho_code.drop(index=0, inplace=True)"
   ]
  },
  {
   "cell_type": "markdown",
   "metadata": {},
   "source": [
    "        * Checking Final Result"
   ]
  },
  {
   "cell_type": "code",
   "execution_count": 11,
   "metadata": {},
   "outputs": [
    {
     "output_type": "execute_result",
     "data": {
      "text/plain": "0          Lithology          Color Lithology Attribute Abbreviation\n1  Aeolian Sandstone    LightYellow    CrossBedded Sand           35\n2          Anhydrite  Light Magenta           Anhydrite           22",
      "text/html": "<div>\n<style scoped>\n    .dataframe tbody tr th:only-of-type {\n        vertical-align: middle;\n    }\n\n    .dataframe tbody tr th {\n        vertical-align: top;\n    }\n\n    .dataframe thead th {\n        text-align: right;\n    }\n</style>\n<table border=\"1\" class=\"dataframe\">\n  <thead>\n    <tr style=\"text-align: right;\">\n      <th></th>\n      <th>Lithology</th>\n      <th>Color</th>\n      <th>Lithology Attribute</th>\n      <th>Abbreviation</th>\n    </tr>\n  </thead>\n  <tbody>\n    <tr>\n      <th>1</th>\n      <td>Aeolian Sandstone</td>\n      <td>LightYellow</td>\n      <td>CrossBedded Sand</td>\n      <td>35</td>\n    </tr>\n    <tr>\n      <th>2</th>\n      <td>Anhydrite</td>\n      <td>Light Magenta</td>\n      <td>Anhydrite</td>\n      <td>22</td>\n    </tr>\n  </tbody>\n</table>\n</div>"
     },
     "metadata": {},
     "execution_count": 11
    }
   ],
   "source": [
    "litho_code.head(n=2)"
   ]
  },
  {
   "cell_type": "markdown",
   "metadata": {},
   "source": [
    "* Stratigraphic Picks"
   ]
  },
  {
   "cell_type": "code",
   "execution_count": 7,
   "metadata": {},
   "outputs": [
    {
     "output_type": "execute_result",
     "data": {
      "text/plain": "   Unnamed: 0 Well identifier               Surface          X           Y  \\\n0       21675          10/4-1  CROMER KNOLL GP. Top  628531.41  6394710.62   \n1       21660          10/4-1        Roedby Fm. Top  628531.41  6394710.62   \n\n        Z      MD  Geological age  TVT  TST Interpreter  Observation number  \n0 -1350.9  1382.0            4.21  NaN  NaN         NPD                   1  \n1 -1350.9  1382.0           98.90  NaN  NaN         NPD                   1  ",
      "text/html": "<div>\n<style scoped>\n    .dataframe tbody tr th:only-of-type {\n        vertical-align: middle;\n    }\n\n    .dataframe tbody tr th {\n        vertical-align: top;\n    }\n\n    .dataframe thead th {\n        text-align: right;\n    }\n</style>\n<table border=\"1\" class=\"dataframe\">\n  <thead>\n    <tr style=\"text-align: right;\">\n      <th></th>\n      <th>Unnamed: 0</th>\n      <th>Well identifier</th>\n      <th>Surface</th>\n      <th>X</th>\n      <th>Y</th>\n      <th>Z</th>\n      <th>MD</th>\n      <th>Geological age</th>\n      <th>TVT</th>\n      <th>TST</th>\n      <th>Interpreter</th>\n      <th>Observation number</th>\n    </tr>\n  </thead>\n  <tbody>\n    <tr>\n      <th>0</th>\n      <td>21675</td>\n      <td>10/4-1</td>\n      <td>CROMER KNOLL GP. Top</td>\n      <td>628531.41</td>\n      <td>6394710.62</td>\n      <td>-1350.9</td>\n      <td>1382.0</td>\n      <td>4.21</td>\n      <td>NaN</td>\n      <td>NaN</td>\n      <td>NPD</td>\n      <td>1</td>\n    </tr>\n    <tr>\n      <th>1</th>\n      <td>21660</td>\n      <td>10/4-1</td>\n      <td>Roedby Fm. Top</td>\n      <td>628531.41</td>\n      <td>6394710.62</td>\n      <td>-1350.9</td>\n      <td>1382.0</td>\n      <td>98.90</td>\n      <td>NaN</td>\n      <td>NaN</td>\n      <td>NPD</td>\n      <td>1</td>\n    </tr>\n  </tbody>\n</table>\n</div>"
     },
     "metadata": {},
     "execution_count": 7
    }
   ],
   "source": [
    "picks.head(n=2)"
   ]
  },
  {
   "cell_type": "markdown",
   "metadata": {},
   "source": [
    "        * Renaming Unidentified Column"
   ]
  },
  {
   "cell_type": "code",
   "execution_count": 13,
   "metadata": {},
   "outputs": [],
   "source": [
    "picks.rename(columns={'Unnamed: 0': 'Unidentified Column'}, inplace=True)"
   ]
  },
  {
   "cell_type": "markdown",
   "metadata": {},
   "source": [
    "        * Checking Result"
   ]
  },
  {
   "cell_type": "code",
   "execution_count": 14,
   "metadata": {},
   "outputs": [
    {
     "output_type": "execute_result",
     "data": {
      "text/plain": "   Unidentified Column Well identifier               Surface          X  \\\n0                21675          10/4-1  CROMER KNOLL GP. Top  628531.41   \n1                21660          10/4-1        Roedby Fm. Top  628531.41   \n\n            Y       Z      MD  Geological age  TVT  TST Interpreter  \\\n0  6394710.62 -1350.9  1382.0            4.21  NaN  NaN         NPD   \n1  6394710.62 -1350.9  1382.0           98.90  NaN  NaN         NPD   \n\n   Observation number  \n0                   1  \n1                   1  ",
      "text/html": "<div>\n<style scoped>\n    .dataframe tbody tr th:only-of-type {\n        vertical-align: middle;\n    }\n\n    .dataframe tbody tr th {\n        vertical-align: top;\n    }\n\n    .dataframe thead th {\n        text-align: right;\n    }\n</style>\n<table border=\"1\" class=\"dataframe\">\n  <thead>\n    <tr style=\"text-align: right;\">\n      <th></th>\n      <th>Unidentified Column</th>\n      <th>Well identifier</th>\n      <th>Surface</th>\n      <th>X</th>\n      <th>Y</th>\n      <th>Z</th>\n      <th>MD</th>\n      <th>Geological age</th>\n      <th>TVT</th>\n      <th>TST</th>\n      <th>Interpreter</th>\n      <th>Observation number</th>\n    </tr>\n  </thead>\n  <tbody>\n    <tr>\n      <th>0</th>\n      <td>21675</td>\n      <td>10/4-1</td>\n      <td>CROMER KNOLL GP. Top</td>\n      <td>628531.41</td>\n      <td>6394710.62</td>\n      <td>-1350.9</td>\n      <td>1382.0</td>\n      <td>4.21</td>\n      <td>NaN</td>\n      <td>NaN</td>\n      <td>NPD</td>\n      <td>1</td>\n    </tr>\n    <tr>\n      <th>1</th>\n      <td>21660</td>\n      <td>10/4-1</td>\n      <td>Roedby Fm. Top</td>\n      <td>628531.41</td>\n      <td>6394710.62</td>\n      <td>-1350.9</td>\n      <td>1382.0</td>\n      <td>98.90</td>\n      <td>NaN</td>\n      <td>NaN</td>\n      <td>NPD</td>\n      <td>1</td>\n    </tr>\n  </tbody>\n</table>\n</div>"
     },
     "metadata": {},
     "execution_count": 14
    }
   ],
   "source": [
    "picks.head(n=2)"
   ]
  },
  {
   "cell_type": "markdown",
   "metadata": {},
   "source": [
    "# Reading Las files Dataset"
   ]
  },
  {
   "cell_type": "code",
   "execution_count": null,
   "metadata": {},
   "outputs": [],
   "source": [
    "path = '..//data/'\n",
    "\n"
   ]
  }
 ],
 "metadata": {
  "language_info": {
   "codemirror_mode": {
    "name": "ipython",
    "version": 3
   },
   "file_extension": ".py",
   "mimetype": "text/x-python",
   "name": "python",
   "nbconvert_exporter": "python",
   "pygments_lexer": "ipython3",
   "version": "3.7.6-final"
  },
  "orig_nbformat": 2,
  "kernelspec": {
   "name": "python37664bitmastersprojectcondab656269538bc414d93d7914548144c35",
   "display_name": "Python 3.7.6 64-bit ('masters_project': conda)"
  }
 },
 "nbformat": 4,
 "nbformat_minor": 2
}