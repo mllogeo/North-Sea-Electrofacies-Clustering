version https://git-lfs.github.com/spec/v1
oid sha256:44e430f7feb34bcfbe91e1d5541d2abb868a66bd88cf81d4d9499e491a331201
size 107702295
