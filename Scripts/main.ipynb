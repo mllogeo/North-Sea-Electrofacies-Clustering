{
 "cells": [
  {
   "cell_type": "markdown",
   "metadata": {},
   "source": [
    "# Importing Libraries"
   ]
  },
  {
   "cell_type": "markdown",
   "metadata": {},
   "source": [
    "* System Append to set proper path"
   ]
  },
  {
   "cell_type": "code",
   "execution_count": 171,
   "metadata": {},
   "outputs": [],
   "source": [
    "sys.path.append('../Source/Utils')"
   ]
  },
  {
   "cell_type": "markdown",
   "metadata": {},
   "source": [
    "* Default"
   ]
  },
  {
   "cell_type": "code",
   "execution_count": 172,
   "metadata": {},
   "outputs": [],
   "source": [
    "import lasio\n",
    "import pandas as pd\n",
    "import numpy as np\n",
    "from collections import Counter"
   ]
  },
  {
   "cell_type": "markdown",
   "metadata": {},
   "source": [
    "* Pandas Options"
   ]
  },
  {
   "cell_type": "code",
   "execution_count": 173,
   "metadata": {},
   "outputs": [],
   "source": [
    "pd.set_option('max_columns', None)"
   ]
  },
  {
   "cell_type": "markdown",
   "metadata": {},
   "source": [
    "* Source Code"
   ]
  },
  {
   "cell_type": "code",
   "execution_count": 174,
   "metadata": {},
   "outputs": [],
   "source": [
    "import welllog"
   ]
  },
  {
   "cell_type": "markdown",
   "metadata": {},
   "source": [
    "* Tqdm Progress Bar"
   ]
  },
  {
   "cell_type": "code",
   "execution_count": 175,
   "metadata": {},
   "outputs": [],
   "source": [
    "%%capture\n",
    "from tqdm import tqdm_notebook"
   ]
  },
  {
   "cell_type": "markdown",
   "metadata": {},
   "source": [
    "# Reading Miscellaneous Data"
   ]
  },
  {
   "cell_type": "code",
   "execution_count": null,
   "metadata": {},
   "outputs": [],
   "source": [
    "file_path = '../data/Lithology code data.xlsx'\n",
    "\n",
    "file_path2 = '../data/NPD stratigraphic picks north sea.xlsx'\n",
    "\n",
    "litho_code = pd.read_excel(file_path)\n",
    "\n",
    "picks = pd.read_excel(file_path2)"
   ]
  },
  {
   "cell_type": "markdown",
   "metadata": {},
   "source": [
    "* Lithology Code "
   ]
  },
  {
   "cell_type": "code",
   "execution_count": null,
   "metadata": {},
   "outputs": [],
   "source": [
    "litho_code.head"
   ]
  },
  {
   "cell_type": "markdown",
   "metadata": {},
   "source": [
    "        * Fixing Columns IDs"
   ]
  },
  {
   "cell_type": "code",
   "execution_count": null,
   "metadata": {},
   "outputs": [],
   "source": [
    "litho_code.columns = litho_code.iloc[0]"
   ]
  },
  {
   "cell_type": "markdown",
   "metadata": {},
   "source": [
    "        * Droping first row (as it has become the columns ids now)"
   ]
  },
  {
   "cell_type": "code",
   "execution_count": null,
   "metadata": {},
   "outputs": [],
   "source": [
    "litho_code.drop(index=0, inplace=True)"
   ]
  },
  {
   "cell_type": "markdown",
   "metadata": {},
   "source": [
    "        * Checking Final Result"
   ]
  },
  {
   "cell_type": "code",
   "execution_count": null,
   "metadata": {},
   "outputs": [],
   "source": [
    "litho_code.head(5)"
   ]
  },
  {
   "cell_type": "markdown",
   "metadata": {},
   "source": [
    "* Stratigraphic Picks"
   ]
  },
  {
   "cell_type": "code",
   "execution_count": null,
   "metadata": {},
   "outputs": [],
   "source": [
    "picks.head(n=2)"
   ]
  },
  {
   "cell_type": "markdown",
   "metadata": {},
   "source": [
    "        * Renaming Unidentified Column"
   ]
  },
  {
   "cell_type": "code",
   "execution_count": null,
   "metadata": {},
   "outputs": [],
   "source": [
    "picks.rename(columns={'Unnamed: 0': 'Unidentified Column'}, inplace=True)"
   ]
  },
  {
   "cell_type": "markdown",
   "metadata": {},
   "source": [
    "        * Checking Result"
   ]
  },
  {
   "cell_type": "code",
   "execution_count": null,
   "metadata": {},
   "outputs": [],
   "source": [
    "picks.head(n=2)"
   ]
  },
  {
   "cell_type": "markdown",
   "metadata": {},
   "source": [
    "# Reading Las files Dataset"
   ]
  },
  {
   "cell_type": "code",
   "execution_count": 176,
   "metadata": {},
   "outputs": [],
   "source": [
    "# Example for 2 wells\n",
    "\n",
    "las = lasio.read('..//data/GEOLINK_Lithology and wells NORTH SEA/6_3-1.las')\n",
    "las1 = lasio.read('..//data/GEOLINK_Lithology and wells NORTH SEA/6_3-2.las')"
   ]
  },
  {
   "cell_type": "code",
   "execution_count": 177,
   "metadata": {
    "tags": []
   },
   "outputs": [
    {
     "output_type": "execute_result",
     "data": {
      "text/plain": "             LITHOLOGY_GEOLINK     CALI    DRHO  NPHI    RHOB         GR  \\\nDEPT                                                                       \n211.500000                 NaN  25.3834     NaN   NaN     NaN  22.092501   \n211.625000                 NaN  25.3834  0.2529   NaN  2.5175  22.094299   \n211.749985                 NaN  25.3834  0.2529   NaN  2.5175  21.809799   \n211.875000                 NaN  25.3834  0.2529   NaN  2.5175  21.382900   \n212.000000                 NaN  25.3834  0.2529   NaN  2.5175  21.104000   \n...                        ...      ...     ...   ...     ...        ...   \n4099.375000                NaN   3.8114     NaN   NaN     NaN        NaN   \n4099.500000                NaN   3.8114     NaN   NaN     NaN        NaN   \n4099.625000                NaN   3.8114     NaN   NaN     NaN        NaN   \n4099.750000                NaN   3.8114     NaN   NaN     NaN        NaN   \n4099.875000                NaN   3.8114     NaN   NaN     NaN        NaN   \n\n                   DTC     RDEP      SP  RSHA    RMED WELL_NAME  \nDEPT                                                             \n211.500000   56.560101  10000.0 -26.289   NaN  0.2967     6_3-2  \n211.625000   56.538799  10000.0 -26.289   NaN  0.2970     6_3-2  \n211.749985   56.517502  10000.0 -26.289   NaN  0.2973     6_3-2  \n211.875000   56.496098  10000.0 -26.289   NaN  0.2976     6_3-2  \n212.000000   56.474800  10000.0 -26.289   NaN  0.2979     6_3-2  \n...                ...      ...     ...   ...     ...       ...  \n4099.375000        NaN      NaN  67.459   NaN     NaN     6_3-2  \n4099.500000        NaN      NaN  67.459   NaN     NaN     6_3-2  \n4099.625000        NaN      NaN  67.459   NaN     NaN     6_3-2  \n4099.750000        NaN      NaN  67.459   NaN     NaN     6_3-2  \n4099.875000        NaN      NaN  67.459   NaN     NaN     6_3-2  \n\n[31108 rows x 12 columns]",
      "text/html": "<div>\n<style scoped>\n    .dataframe tbody tr th:only-of-type {\n        vertical-align: middle;\n    }\n\n    .dataframe tbody tr th {\n        vertical-align: top;\n    }\n\n    .dataframe thead th {\n        text-align: right;\n    }\n</style>\n<table border=\"1\" class=\"dataframe\">\n  <thead>\n    <tr style=\"text-align: right;\">\n      <th></th>\n      <th>LITHOLOGY_GEOLINK</th>\n      <th>CALI</th>\n      <th>DRHO</th>\n      <th>NPHI</th>\n      <th>RHOB</th>\n      <th>GR</th>\n      <th>DTC</th>\n      <th>RDEP</th>\n      <th>SP</th>\n      <th>RSHA</th>\n      <th>RMED</th>\n      <th>WELL_NAME</th>\n    </tr>\n    <tr>\n      <th>DEPT</th>\n      <th></th>\n      <th></th>\n      <th></th>\n      <th></th>\n      <th></th>\n      <th></th>\n      <th></th>\n      <th></th>\n      <th></th>\n      <th></th>\n      <th></th>\n      <th></th>\n    </tr>\n  </thead>\n  <tbody>\n    <tr>\n      <th>211.500000</th>\n      <td>NaN</td>\n      <td>25.3834</td>\n      <td>NaN</td>\n      <td>NaN</td>\n      <td>NaN</td>\n      <td>22.092501</td>\n      <td>56.560101</td>\n      <td>10000.0</td>\n      <td>-26.289</td>\n      <td>NaN</td>\n      <td>0.2967</td>\n      <td>6_3-2</td>\n    </tr>\n    <tr>\n      <th>211.625000</th>\n      <td>NaN</td>\n      <td>25.3834</td>\n      <td>0.2529</td>\n      <td>NaN</td>\n      <td>2.5175</td>\n      <td>22.094299</td>\n      <td>56.538799</td>\n      <td>10000.0</td>\n      <td>-26.289</td>\n      <td>NaN</td>\n      <td>0.2970</td>\n      <td>6_3-2</td>\n    </tr>\n    <tr>\n      <th>211.749985</th>\n      <td>NaN</td>\n      <td>25.3834</td>\n      <td>0.2529</td>\n      <td>NaN</td>\n      <td>2.5175</td>\n      <td>21.809799</td>\n      <td>56.517502</td>\n      <td>10000.0</td>\n      <td>-26.289</td>\n      <td>NaN</td>\n      <td>0.2973</td>\n      <td>6_3-2</td>\n    </tr>\n    <tr>\n      <th>211.875000</th>\n      <td>NaN</td>\n      <td>25.3834</td>\n      <td>0.2529</td>\n      <td>NaN</td>\n      <td>2.5175</td>\n      <td>21.382900</td>\n      <td>56.496098</td>\n      <td>10000.0</td>\n      <td>-26.289</td>\n      <td>NaN</td>\n      <td>0.2976</td>\n      <td>6_3-2</td>\n    </tr>\n    <tr>\n      <th>212.000000</th>\n      <td>NaN</td>\n      <td>25.3834</td>\n      <td>0.2529</td>\n      <td>NaN</td>\n      <td>2.5175</td>\n      <td>21.104000</td>\n      <td>56.474800</td>\n      <td>10000.0</td>\n      <td>-26.289</td>\n      <td>NaN</td>\n      <td>0.2979</td>\n      <td>6_3-2</td>\n    </tr>\n    <tr>\n      <th>...</th>\n      <td>...</td>\n      <td>...</td>\n      <td>...</td>\n      <td>...</td>\n      <td>...</td>\n      <td>...</td>\n      <td>...</td>\n      <td>...</td>\n      <td>...</td>\n      <td>...</td>\n      <td>...</td>\n      <td>...</td>\n    </tr>\n    <tr>\n      <th>4099.375000</th>\n      <td>NaN</td>\n      <td>3.8114</td>\n      <td>NaN</td>\n      <td>NaN</td>\n      <td>NaN</td>\n      <td>NaN</td>\n      <td>NaN</td>\n      <td>NaN</td>\n      <td>67.459</td>\n      <td>NaN</td>\n      <td>NaN</td>\n      <td>6_3-2</td>\n    </tr>\n    <tr>\n      <th>4099.500000</th>\n      <td>NaN</td>\n      <td>3.8114</td>\n      <td>NaN</td>\n      <td>NaN</td>\n      <td>NaN</td>\n      <td>NaN</td>\n      <td>NaN</td>\n      <td>NaN</td>\n      <td>67.459</td>\n      <td>NaN</td>\n      <td>NaN</td>\n      <td>6_3-2</td>\n    </tr>\n    <tr>\n      <th>4099.625000</th>\n      <td>NaN</td>\n      <td>3.8114</td>\n      <td>NaN</td>\n      <td>NaN</td>\n      <td>NaN</td>\n      <td>NaN</td>\n      <td>NaN</td>\n      <td>NaN</td>\n      <td>67.459</td>\n      <td>NaN</td>\n      <td>NaN</td>\n      <td>6_3-2</td>\n    </tr>\n    <tr>\n      <th>4099.750000</th>\n      <td>NaN</td>\n      <td>3.8114</td>\n      <td>NaN</td>\n      <td>NaN</td>\n      <td>NaN</td>\n      <td>NaN</td>\n      <td>NaN</td>\n      <td>NaN</td>\n      <td>67.459</td>\n      <td>NaN</td>\n      <td>NaN</td>\n      <td>6_3-2</td>\n    </tr>\n    <tr>\n      <th>4099.875000</th>\n      <td>NaN</td>\n      <td>3.8114</td>\n      <td>NaN</td>\n      <td>NaN</td>\n      <td>NaN</td>\n      <td>NaN</td>\n      <td>NaN</td>\n      <td>NaN</td>\n      <td>67.459</td>\n      <td>NaN</td>\n      <td>NaN</td>\n      <td>6_3-2</td>\n    </tr>\n  </tbody>\n</table>\n<p>31108 rows × 12 columns</p>\n</div>"
     },
     "metadata": {},
     "execution_count": 177
    }
   ],
   "source": [
    "df = las.df()\n",
    "df1 = las1.df()\n",
    "\n",
    "# Creating a column with the well name\n",
    "\n",
    "df['WELL_NAME'] = '6_3-1'\n",
    "df1['WELL_NAME'] = '6_3-2'\n",
    "\n",
    "df1"
   ]
  },
  {
   "cell_type": "code",
   "execution_count": 178,
   "metadata": {},
   "outputs": [],
   "source": [
    "# List of curves that need to be filtered from the wells dataframes\n",
    "\n",
    "lista = ['LITHOLOGY_GEOLINK', 'NPHI', 'RHOB', 'GR', 'DTC', 'RDEP', 'WELL_NAME']"
   ]
  },
  {
   "cell_type": "code",
   "execution_count": 179,
   "metadata": {},
   "outputs": [
    {
     "output_type": "execute_result",
     "data": {
      "text/plain": "Empty DataFrame\nColumns: [LITHOLOGY_GEOLINK, CALI, NPHI, RHOB, GR, DTC, RDEP, WELL_NAME]\nIndex: []",
      "text/html": "<div>\n<style scoped>\n    .dataframe tbody tr th:only-of-type {\n        vertical-align: middle;\n    }\n\n    .dataframe tbody tr th {\n        vertical-align: top;\n    }\n\n    .dataframe thead th {\n        text-align: right;\n    }\n</style>\n<table border=\"1\" class=\"dataframe\">\n  <thead>\n    <tr style=\"text-align: right;\">\n      <th></th>\n      <th>LITHOLOGY_GEOLINK</th>\n      <th>CALI</th>\n      <th>NPHI</th>\n      <th>RHOB</th>\n      <th>GR</th>\n      <th>DTC</th>\n      <th>RDEP</th>\n      <th>WELL_NAME</th>\n    </tr>\n  </thead>\n  <tbody>\n  </tbody>\n</table>\n</div>"
     },
     "metadata": {},
     "execution_count": 179
    }
   ],
   "source": [
    "# Creating a main empty dataframe\n",
    "\n",
    "col = {'LITHOLOGY_GEOLINK':[], 'CALI':[], 'NPHI':[], 'RHOB':[], 'GR':[], 'DTC':[], 'RDEP':[], 'WELL_NAME':[]}\n",
    "df_main = pd.DataFrame(columns=list(col))\n",
    "\n",
    "df_main"
   ]
  },
  {
   "cell_type": "code",
   "execution_count": 180,
   "metadata": {},
   "outputs": [
    {
     "output_type": "execute_result",
     "data": {
      "text/plain": "             LITHOLOGY_GEOLINK CALI  NPHI  RHOB         GR         DTC  \\\n107.125000                 NaN  NaN   NaN   1.0        NaN  205.999985   \n107.250000                 NaN  NaN   NaN   1.0   8.580900  205.999985   \n107.375000                 NaN  NaN   NaN   1.0  12.589000  205.999985   \n107.500000                 NaN  NaN   NaN   1.0  16.597099  205.999985   \n107.625008                 NaN  NaN   NaN   1.0  17.837000  205.999985   \n...                        ...  ...   ...   ...        ...         ...   \n4099.375000                NaN  NaN   NaN   NaN        NaN         NaN   \n4099.500000                NaN  NaN   NaN   NaN        NaN         NaN   \n4099.625000                NaN  NaN   NaN   NaN        NaN         NaN   \n4099.750000                NaN  NaN   NaN   NaN        NaN         NaN   \n4099.875000                NaN  NaN   NaN   NaN        NaN         NaN   \n\n                     RDEP WELL_NAME  \n107.125000       0.000000     6_3-1  \n107.250000    4810.740234     6_3-1  \n107.375000    7057.797852     6_3-1  \n107.500000    9304.855469     6_3-1  \n107.625008   10000.000000     6_3-1  \n...                   ...       ...  \n4099.375000           NaN     6_3-2  \n4099.500000           NaN     6_3-2  \n4099.625000           NaN     6_3-2  \n4099.750000           NaN     6_3-2  \n4099.875000           NaN     6_3-2  \n\n[58796 rows x 8 columns]",
      "text/html": "<div>\n<style scoped>\n    .dataframe tbody tr th:only-of-type {\n        vertical-align: middle;\n    }\n\n    .dataframe tbody tr th {\n        vertical-align: top;\n    }\n\n    .dataframe thead th {\n        text-align: right;\n    }\n</style>\n<table border=\"1\" class=\"dataframe\">\n  <thead>\n    <tr style=\"text-align: right;\">\n      <th></th>\n      <th>LITHOLOGY_GEOLINK</th>\n      <th>CALI</th>\n      <th>NPHI</th>\n      <th>RHOB</th>\n      <th>GR</th>\n      <th>DTC</th>\n      <th>RDEP</th>\n      <th>WELL_NAME</th>\n    </tr>\n  </thead>\n  <tbody>\n    <tr>\n      <th>107.125000</th>\n      <td>NaN</td>\n      <td>NaN</td>\n      <td>NaN</td>\n      <td>1.0</td>\n      <td>NaN</td>\n      <td>205.999985</td>\n      <td>0.000000</td>\n      <td>6_3-1</td>\n    </tr>\n    <tr>\n      <th>107.250000</th>\n      <td>NaN</td>\n      <td>NaN</td>\n      <td>NaN</td>\n      <td>1.0</td>\n      <td>8.580900</td>\n      <td>205.999985</td>\n      <td>4810.740234</td>\n      <td>6_3-1</td>\n    </tr>\n    <tr>\n      <th>107.375000</th>\n      <td>NaN</td>\n      <td>NaN</td>\n      <td>NaN</td>\n      <td>1.0</td>\n      <td>12.589000</td>\n      <td>205.999985</td>\n      <td>7057.797852</td>\n      <td>6_3-1</td>\n    </tr>\n    <tr>\n      <th>107.500000</th>\n      <td>NaN</td>\n      <td>NaN</td>\n      <td>NaN</td>\n      <td>1.0</td>\n      <td>16.597099</td>\n      <td>205.999985</td>\n      <td>9304.855469</td>\n      <td>6_3-1</td>\n    </tr>\n    <tr>\n      <th>107.625008</th>\n      <td>NaN</td>\n      <td>NaN</td>\n      <td>NaN</td>\n      <td>1.0</td>\n      <td>17.837000</td>\n      <td>205.999985</td>\n      <td>10000.000000</td>\n      <td>6_3-1</td>\n    </tr>\n    <tr>\n      <th>...</th>\n      <td>...</td>\n      <td>...</td>\n      <td>...</td>\n      <td>...</td>\n      <td>...</td>\n      <td>...</td>\n      <td>...</td>\n      <td>...</td>\n    </tr>\n    <tr>\n      <th>4099.375000</th>\n      <td>NaN</td>\n      <td>NaN</td>\n      <td>NaN</td>\n      <td>NaN</td>\n      <td>NaN</td>\n      <td>NaN</td>\n      <td>NaN</td>\n      <td>6_3-2</td>\n    </tr>\n    <tr>\n      <th>4099.500000</th>\n      <td>NaN</td>\n      <td>NaN</td>\n      <td>NaN</td>\n      <td>NaN</td>\n      <td>NaN</td>\n      <td>NaN</td>\n      <td>NaN</td>\n      <td>6_3-2</td>\n    </tr>\n    <tr>\n      <th>4099.625000</th>\n      <td>NaN</td>\n      <td>NaN</td>\n      <td>NaN</td>\n      <td>NaN</td>\n      <td>NaN</td>\n      <td>NaN</td>\n      <td>NaN</td>\n      <td>6_3-2</td>\n    </tr>\n    <tr>\n      <th>4099.750000</th>\n      <td>NaN</td>\n      <td>NaN</td>\n      <td>NaN</td>\n      <td>NaN</td>\n      <td>NaN</td>\n      <td>NaN</td>\n      <td>NaN</td>\n      <td>6_3-2</td>\n    </tr>\n    <tr>\n      <th>4099.875000</th>\n      <td>NaN</td>\n      <td>NaN</td>\n      <td>NaN</td>\n      <td>NaN</td>\n      <td>NaN</td>\n      <td>NaN</td>\n      <td>NaN</td>\n      <td>6_3-2</td>\n    </tr>\n  </tbody>\n</table>\n<p>58796 rows × 8 columns</p>\n</div>"
     },
     "metadata": {},
     "execution_count": 180
    }
   ],
   "source": [
    "# Appending the dataframes of two wells\n",
    "\n",
    "df_main = df_main.append(df[lista])\n",
    "df_main = df_main.append(df1[lista])\n",
    "\n",
    "\n",
    "df_main\n",
    "\n",
    "# ^^^^ Aqui a ideia é fazer um laço onde os indices serão todos os arquivos las do diretório '..//data/GEOLINK_Lithology and wells NORTH SEA/'"
   ]
  },
  {
   "cell_type": "code",
   "execution_count": null,
   "metadata": {},
   "outputs": [],
   "source": []
  },
  {
   "cell_type": "markdown",
   "metadata": {},
   "source": [
    "* Checking unmatching unit of measurement for each log curve"
   ]
  },
  {
   "cell_type": "code",
   "execution_count": null,
   "metadata": {},
   "outputs": [],
   "source": [
    "unit_mismatch_list = welllog.unit_check(npd_wells)"
   ]
  },
  {
   "cell_type": "markdown",
   "metadata": {},
   "source": [
    "* Converting all las files to dataframe"
   ]
  }
 ],
 "metadata": {
  "language_info": {
   "codemirror_mode": {
    "name": "ipython",
    "version": 3
   },
   "file_extension": ".py",
   "mimetype": "text/x-python",
   "name": "python",
   "nbconvert_exporter": "python",
   "pygments_lexer": "ipython3",
   "version": "3.7.6-final"
  },
  "orig_nbformat": 2,
  "kernelspec": {
   "name": "python37632bitconda28075824ea9a4f08991837c2bbbe05e0",
   "display_name": "Python 3.7.6 32-bit (conda)"
  }
 },
 "nbformat": 4,
 "nbformat_minor": 2
}