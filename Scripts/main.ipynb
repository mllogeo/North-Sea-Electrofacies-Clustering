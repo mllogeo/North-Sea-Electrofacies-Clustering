version https://git-lfs.github.com/spec/v1
oid sha256:01709e87415410bcfd6069e82d0b0b2ff5bd4ec649c85b595f2120415b06fc86
size 108605107
