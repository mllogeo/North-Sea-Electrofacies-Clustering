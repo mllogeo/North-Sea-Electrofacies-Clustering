version https://git-lfs.github.com/spec/v1
oid sha256:d80665ebfbe5f6de4d3f81aae5f48180f0f61b8e9964f16ae28d057e3d352455
size 114328595
