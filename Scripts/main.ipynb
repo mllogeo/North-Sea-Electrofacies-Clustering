version https://git-lfs.github.com/spec/v1
oid sha256:072eec105a2f725ff8ae46ccd38ed64d313db8d1b419c43cd7ae23a571c653e4
size 114351408
