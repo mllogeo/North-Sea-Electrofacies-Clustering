version https://git-lfs.github.com/spec/v1
oid sha256:049b752432d013ea7c1db92fb4948f4bdc4731b084dc7dd5aa0ee2ad67485b01
size 1341866
