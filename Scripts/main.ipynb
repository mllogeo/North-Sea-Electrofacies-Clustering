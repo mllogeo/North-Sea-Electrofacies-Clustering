version https://git-lfs.github.com/spec/v1
oid sha256:f3c86df17d8f3c4ca22a16f5be880f0849cb5de32a7f7fd45972b3a2119684da
size 108605107
