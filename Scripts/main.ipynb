version https://git-lfs.github.com/spec/v1
oid sha256:f74d57b29e46fe67f6e02d8e0b4e205eaeec53ed090c5d3bdfaf68e90f090b88
size 31756
