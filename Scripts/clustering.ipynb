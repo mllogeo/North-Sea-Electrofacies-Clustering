version https://git-lfs.github.com/spec/v1
oid sha256:68bd48be45f33f056761e11bafa066e96b5185d5b27b911c2918a1090d63721d
size 87654
